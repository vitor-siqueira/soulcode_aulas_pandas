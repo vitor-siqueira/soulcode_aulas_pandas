{
  "nbformat": 4,
  "nbformat_minor": 0,
  "metadata": {
    "colab": {
      "name": "Exercício - Banda Larga",
      "provenance": [],
      "collapsed_sections": []
    },
    "kernelspec": {
      "name": "python3",
      "display_name": "Python 3"
    },
    "language_info": {
      "name": "python"
    }
  },
  "cells": [
    {
      "cell_type": "markdown",
      "metadata": {
        "id": "ej6Gjeg_TOb0"
      },
      "source": [
        "Meio de Acesso - onde tiver vazio ou null, mudar para Ar\n",
        "\n",
        "Normalizações\n",
        "\n",
        "Grupo economico pode colocar para Prestadora, onde tiver outros transformar para consorcio\n",
        "\n",
        "Mudar as classificações de porte para apenas Pequeno, médio, etc.\n",
        "\n",
        "Trocar indeterminado pelo meio de transmissão usem o que foi aprendido no curso"
      ]
    },
    {
      "cell_type": "code",
      "metadata": {
        "id": "Uz3AOQYNJOaB"
      },
      "source": [
        "import pandas as pd"
      ],
      "execution_count": null,
      "outputs": []
    },
    {
      "cell_type": "code",
      "metadata": {
        "colab": {
          "base_uri": "https://localhost:8080/",
          "height": 306
        },
        "id": "N_N5jhn2JQJq",
        "outputId": "cb2d37ff-b818-48f4-cb04-b2f49d52eb85"
      },
      "source": [
        "df = pd.read_csv(\"https://storage.googleapis.com/dados_turmabc6_soul/Dados/Acessos_Banda_Larga_Fixa_2021.csv\", sep=';')\n",
        "df.head()"
      ],
      "execution_count": null,
      "outputs": [
        {
          "output_type": "execute_result",
          "data": {
            "text/html": [
              "<div>\n",
              "<style scoped>\n",
              "    .dataframe tbody tr th:only-of-type {\n",
              "        vertical-align: middle;\n",
              "    }\n",
              "\n",
              "    .dataframe tbody tr th {\n",
              "        vertical-align: top;\n",
              "    }\n",
              "\n",
              "    .dataframe thead th {\n",
              "        text-align: right;\n",
              "    }\n",
              "</style>\n",
              "<table border=\"1\" class=\"dataframe\">\n",
              "  <thead>\n",
              "    <tr style=\"text-align: right;\">\n",
              "      <th></th>\n",
              "      <th>Ano</th>\n",
              "      <th>Mês</th>\n",
              "      <th>Grupo Econômico</th>\n",
              "      <th>Empresa</th>\n",
              "      <th>CNPJ</th>\n",
              "      <th>Porte da Prestadora</th>\n",
              "      <th>UF</th>\n",
              "      <th>Município</th>\n",
              "      <th>Código IBGE Município</th>\n",
              "      <th>Faixa de Velocidade</th>\n",
              "      <th>Tecnologia</th>\n",
              "      <th>Meio de Acesso</th>\n",
              "      <th>Tipo de Pessoa</th>\n",
              "      <th>Acessos</th>\n",
              "    </tr>\n",
              "  </thead>\n",
              "  <tbody>\n",
              "    <tr>\n",
              "      <th>0</th>\n",
              "      <td>2021</td>\n",
              "      <td>7</td>\n",
              "      <td>ALGAR (CTBC TELECOM)</td>\n",
              "      <td>ALGAR (CTBC TELECOM)</td>\n",
              "      <td>71208516000174</td>\n",
              "      <td>Pequeno Porte</td>\n",
              "      <td>GO</td>\n",
              "      <td>Itumbiara</td>\n",
              "      <td>5211503</td>\n",
              "      <td>2Mbps a 12Mbps</td>\n",
              "      <td>ETHERNET</td>\n",
              "      <td>Fibra</td>\n",
              "      <td>Pessoa Jurídica</td>\n",
              "      <td>10</td>\n",
              "    </tr>\n",
              "    <tr>\n",
              "      <th>1</th>\n",
              "      <td>2021</td>\n",
              "      <td>7</td>\n",
              "      <td>ALGAR (CTBC TELECOM)</td>\n",
              "      <td>ALGAR (CTBC TELECOM)</td>\n",
              "      <td>71208516000174</td>\n",
              "      <td>Pequeno Porte</td>\n",
              "      <td>SP</td>\n",
              "      <td>Morro Agudo</td>\n",
              "      <td>3531902</td>\n",
              "      <td>12Mbps a 34Mbps</td>\n",
              "      <td>ETHERNET</td>\n",
              "      <td>Fibra</td>\n",
              "      <td>Pessoa Jurídica</td>\n",
              "      <td>1</td>\n",
              "    </tr>\n",
              "    <tr>\n",
              "      <th>2</th>\n",
              "      <td>2021</td>\n",
              "      <td>7</td>\n",
              "      <td>ALGAR (CTBC TELECOM)</td>\n",
              "      <td>ALGAR (CTBC TELECOM)</td>\n",
              "      <td>71208516000174</td>\n",
              "      <td>Pequeno Porte</td>\n",
              "      <td>SP</td>\n",
              "      <td>São Joaquim da Barra</td>\n",
              "      <td>3549409</td>\n",
              "      <td>&gt; 34Mbps</td>\n",
              "      <td>ETHERNET</td>\n",
              "      <td>Fibra</td>\n",
              "      <td>Pessoa Jurídica</td>\n",
              "      <td>2</td>\n",
              "    </tr>\n",
              "    <tr>\n",
              "      <th>3</th>\n",
              "      <td>2021</td>\n",
              "      <td>7</td>\n",
              "      <td>OUTROS</td>\n",
              "      <td>Telecomunicacoes Brasileiras S.A. Telebras</td>\n",
              "      <td>336701000104</td>\n",
              "      <td>Pequeno Porte</td>\n",
              "      <td>MS</td>\n",
              "      <td>Coxim</td>\n",
              "      <td>5003306</td>\n",
              "      <td>&gt; 34Mbps</td>\n",
              "      <td>DWDM</td>\n",
              "      <td>Fibra</td>\n",
              "      <td>Pessoa Jurídica</td>\n",
              "      <td>2</td>\n",
              "    </tr>\n",
              "    <tr>\n",
              "      <th>4</th>\n",
              "      <td>2021</td>\n",
              "      <td>7</td>\n",
              "      <td>ALGAR (CTBC TELECOM)</td>\n",
              "      <td>ALGAR (CTBC TELECOM)</td>\n",
              "      <td>71208516000174</td>\n",
              "      <td>Pequeno Porte</td>\n",
              "      <td>MG</td>\n",
              "      <td>Delta</td>\n",
              "      <td>3121258</td>\n",
              "      <td>512kbps a 2Mbps</td>\n",
              "      <td>ETHERNET</td>\n",
              "      <td>Fibra</td>\n",
              "      <td>Pessoa Jurídica</td>\n",
              "      <td>3</td>\n",
              "    </tr>\n",
              "  </tbody>\n",
              "</table>\n",
              "</div>"
            ],
            "text/plain": [
              "    Ano  Mês       Grupo Econômico  ... Meio de Acesso   Tipo de Pessoa Acessos\n",
              "0  2021    7  ALGAR (CTBC TELECOM)  ...          Fibra  Pessoa Jurídica      10\n",
              "1  2021    7  ALGAR (CTBC TELECOM)  ...          Fibra  Pessoa Jurídica       1\n",
              "2  2021    7  ALGAR (CTBC TELECOM)  ...          Fibra  Pessoa Jurídica       2\n",
              "3  2021    7                OUTROS  ...          Fibra  Pessoa Jurídica       2\n",
              "4  2021    7  ALGAR (CTBC TELECOM)  ...          Fibra  Pessoa Jurídica       3\n",
              "\n",
              "[5 rows x 14 columns]"
            ]
          },
          "metadata": {},
          "execution_count": 2
        }
      ]
    },
    {
      "cell_type": "code",
      "metadata": {
        "id": "NA7hs0-vVIup"
      },
      "source": [
        "#Mudando o nome do Grupo Econômico para Prestadora\n",
        "df.rename(columns={'Grupo Econômico': 'Prestadora'}, inplace = True)"
      ],
      "execution_count": null,
      "outputs": []
    },
    {
      "cell_type": "code",
      "metadata": {
        "colab": {
          "base_uri": "https://localhost:8080/",
          "height": 306
        },
        "id": "Vo5HSD5XVgKR",
        "outputId": "4028abbe-931e-4e9a-a86f-a5be512a797d"
      },
      "source": [
        "df.head()"
      ],
      "execution_count": null,
      "outputs": [
        {
          "output_type": "execute_result",
          "data": {
            "text/html": [
              "<div>\n",
              "<style scoped>\n",
              "    .dataframe tbody tr th:only-of-type {\n",
              "        vertical-align: middle;\n",
              "    }\n",
              "\n",
              "    .dataframe tbody tr th {\n",
              "        vertical-align: top;\n",
              "    }\n",
              "\n",
              "    .dataframe thead th {\n",
              "        text-align: right;\n",
              "    }\n",
              "</style>\n",
              "<table border=\"1\" class=\"dataframe\">\n",
              "  <thead>\n",
              "    <tr style=\"text-align: right;\">\n",
              "      <th></th>\n",
              "      <th>Ano</th>\n",
              "      <th>Mês</th>\n",
              "      <th>Prestadora</th>\n",
              "      <th>Empresa</th>\n",
              "      <th>CNPJ</th>\n",
              "      <th>Porte da Prestadora</th>\n",
              "      <th>UF</th>\n",
              "      <th>Município</th>\n",
              "      <th>Código IBGE Município</th>\n",
              "      <th>Faixa de Velocidade</th>\n",
              "      <th>Tecnologia</th>\n",
              "      <th>Meio de Acesso</th>\n",
              "      <th>Tipo de Pessoa</th>\n",
              "      <th>Acessos</th>\n",
              "    </tr>\n",
              "  </thead>\n",
              "  <tbody>\n",
              "    <tr>\n",
              "      <th>0</th>\n",
              "      <td>2021</td>\n",
              "      <td>7</td>\n",
              "      <td>ALGAR (CTBC TELECOM)</td>\n",
              "      <td>ALGAR (CTBC TELECOM)</td>\n",
              "      <td>71208516000174</td>\n",
              "      <td>Pequeno Porte</td>\n",
              "      <td>GO</td>\n",
              "      <td>Itumbiara</td>\n",
              "      <td>5211503</td>\n",
              "      <td>2Mbps a 12Mbps</td>\n",
              "      <td>ETHERNET</td>\n",
              "      <td>Fibra</td>\n",
              "      <td>Pessoa Jurídica</td>\n",
              "      <td>10</td>\n",
              "    </tr>\n",
              "    <tr>\n",
              "      <th>1</th>\n",
              "      <td>2021</td>\n",
              "      <td>7</td>\n",
              "      <td>ALGAR (CTBC TELECOM)</td>\n",
              "      <td>ALGAR (CTBC TELECOM)</td>\n",
              "      <td>71208516000174</td>\n",
              "      <td>Pequeno Porte</td>\n",
              "      <td>SP</td>\n",
              "      <td>Morro Agudo</td>\n",
              "      <td>3531902</td>\n",
              "      <td>12Mbps a 34Mbps</td>\n",
              "      <td>ETHERNET</td>\n",
              "      <td>Fibra</td>\n",
              "      <td>Pessoa Jurídica</td>\n",
              "      <td>1</td>\n",
              "    </tr>\n",
              "    <tr>\n",
              "      <th>2</th>\n",
              "      <td>2021</td>\n",
              "      <td>7</td>\n",
              "      <td>ALGAR (CTBC TELECOM)</td>\n",
              "      <td>ALGAR (CTBC TELECOM)</td>\n",
              "      <td>71208516000174</td>\n",
              "      <td>Pequeno Porte</td>\n",
              "      <td>SP</td>\n",
              "      <td>São Joaquim da Barra</td>\n",
              "      <td>3549409</td>\n",
              "      <td>&gt; 34Mbps</td>\n",
              "      <td>ETHERNET</td>\n",
              "      <td>Fibra</td>\n",
              "      <td>Pessoa Jurídica</td>\n",
              "      <td>2</td>\n",
              "    </tr>\n",
              "    <tr>\n",
              "      <th>3</th>\n",
              "      <td>2021</td>\n",
              "      <td>7</td>\n",
              "      <td>OUTROS</td>\n",
              "      <td>Telecomunicacoes Brasileiras S.A. Telebras</td>\n",
              "      <td>336701000104</td>\n",
              "      <td>Pequeno Porte</td>\n",
              "      <td>MS</td>\n",
              "      <td>Coxim</td>\n",
              "      <td>5003306</td>\n",
              "      <td>&gt; 34Mbps</td>\n",
              "      <td>DWDM</td>\n",
              "      <td>Fibra</td>\n",
              "      <td>Pessoa Jurídica</td>\n",
              "      <td>2</td>\n",
              "    </tr>\n",
              "    <tr>\n",
              "      <th>4</th>\n",
              "      <td>2021</td>\n",
              "      <td>7</td>\n",
              "      <td>ALGAR (CTBC TELECOM)</td>\n",
              "      <td>ALGAR (CTBC TELECOM)</td>\n",
              "      <td>71208516000174</td>\n",
              "      <td>Pequeno Porte</td>\n",
              "      <td>MG</td>\n",
              "      <td>Delta</td>\n",
              "      <td>3121258</td>\n",
              "      <td>512kbps a 2Mbps</td>\n",
              "      <td>ETHERNET</td>\n",
              "      <td>Fibra</td>\n",
              "      <td>Pessoa Jurídica</td>\n",
              "      <td>3</td>\n",
              "    </tr>\n",
              "  </tbody>\n",
              "</table>\n",
              "</div>"
            ],
            "text/plain": [
              "    Ano  Mês            Prestadora  ... Meio de Acesso   Tipo de Pessoa Acessos\n",
              "0  2021    7  ALGAR (CTBC TELECOM)  ...          Fibra  Pessoa Jurídica      10\n",
              "1  2021    7  ALGAR (CTBC TELECOM)  ...          Fibra  Pessoa Jurídica       1\n",
              "2  2021    7  ALGAR (CTBC TELECOM)  ...          Fibra  Pessoa Jurídica       2\n",
              "3  2021    7                OUTROS  ...          Fibra  Pessoa Jurídica       2\n",
              "4  2021    7  ALGAR (CTBC TELECOM)  ...          Fibra  Pessoa Jurídica       3\n",
              "\n",
              "[5 rows x 14 columns]"
            ]
          },
          "metadata": {},
          "execution_count": 9
        }
      ]
    },
    {
      "cell_type": "code",
      "metadata": {
        "colab": {
          "base_uri": "https://localhost:8080/"
        },
        "id": "fXMrSvgyS-_z",
        "outputId": "be1c9ee0-1ebf-44bd-92bc-069d3fbcf9cd"
      },
      "source": [
        "df.isna().sum()"
      ],
      "execution_count": null,
      "outputs": [
        {
          "output_type": "execute_result",
          "data": {
            "text/plain": [
              "Ano                      0\n",
              "Mês                      0\n",
              "Grupo Econômico          0\n",
              "Empresa                  0\n",
              "CNPJ                     0\n",
              "Porte da Prestadora      0\n",
              "UF                       0\n",
              "Município                0\n",
              "Código IBGE Município    0\n",
              "Faixa de Velocidade      0\n",
              "Tecnologia               0\n",
              "Meio de Acesso           0\n",
              "Tipo de Pessoa           0\n",
              "Acessos                  0\n",
              "dtype: int64"
            ]
          },
          "metadata": {},
          "execution_count": 7
        }
      ]
    },
    {
      "cell_type": "code",
      "metadata": {
        "colab": {
          "base_uri": "https://localhost:8080/"
        },
        "id": "DpvgFoMJJXra",
        "outputId": "40b3f5cf-6bc3-4839-ace2-4b06cf9fb53e"
      },
      "source": [
        "df.loc[:, 'Prestadora']"
      ],
      "execution_count": null,
      "outputs": [
        {
          "output_type": "execute_result",
          "data": {
            "text/plain": [
              "0          ALGAR (CTBC TELECOM)\n",
              "1          ALGAR (CTBC TELECOM)\n",
              "2          ALGAR (CTBC TELECOM)\n",
              "3                        OUTROS\n",
              "4          ALGAR (CTBC TELECOM)\n",
              "                   ...         \n",
              "3210059                  OUTROS\n",
              "3210060                  OUTROS\n",
              "3210061                  OUTROS\n",
              "3210062                  OUTROS\n",
              "3210063                  OUTROS\n",
              "Name: Prestadora, Length: 3210064, dtype: object"
            ]
          },
          "metadata": {},
          "execution_count": 11
        }
      ]
    },
    {
      "cell_type": "code",
      "metadata": {
        "id": "hi55gDCMV2xV"
      },
      "source": [
        "#Localizando e modificando - Onde tiver OUTROS mudar para CONSORCIO\n",
        "df.loc[df.Prestadora == \"OUTROS\", ['Prestadora']] = 'CONSORCIO'"
      ],
      "execution_count": null,
      "outputs": []
    },
    {
      "cell_type": "code",
      "metadata": {
        "colab": {
          "base_uri": "https://localhost:8080/"
        },
        "id": "PaCxkFh6Wyk8",
        "outputId": "4f7e6103-86e1-4c3e-90b3-f061140ab10d"
      },
      "source": [
        "df.loc[:, 'Prestadora']"
      ],
      "execution_count": null,
      "outputs": [
        {
          "output_type": "execute_result",
          "data": {
            "text/plain": [
              "0          ALGAR (CTBC TELECOM)\n",
              "1          ALGAR (CTBC TELECOM)\n",
              "2          ALGAR (CTBC TELECOM)\n",
              "3                     CONSORCIO\n",
              "4          ALGAR (CTBC TELECOM)\n",
              "                   ...         \n",
              "3210059               CONSORCIO\n",
              "3210060               CONSORCIO\n",
              "3210061               CONSORCIO\n",
              "3210062               CONSORCIO\n",
              "3210063               CONSORCIO\n",
              "Name: Prestadora, Length: 3210064, dtype: object"
            ]
          },
          "metadata": {},
          "execution_count": 13
        }
      ]
    },
    {
      "cell_type": "code",
      "metadata": {
        "colab": {
          "base_uri": "https://localhost:8080/"
        },
        "id": "hDmmZrXOXFwY",
        "outputId": "6f58c212-3e82-4191-8a95-5aed267bd8e2"
      },
      "source": [
        "df.loc[0:100, 'Porte da Prestadora']"
      ],
      "execution_count": null,
      "outputs": [
        {
          "output_type": "execute_result",
          "data": {
            "text/plain": [
              "0      Pequeno Porte\n",
              "1      Pequeno Porte\n",
              "2      Pequeno Porte\n",
              "3      Pequeno Porte\n",
              "4      Pequeno Porte\n",
              "           ...      \n",
              "96      Grande Porte\n",
              "97     Pequeno Porte\n",
              "98     Pequeno Porte\n",
              "99     Pequeno Porte\n",
              "100     Grande Porte\n",
              "Name: Porte da Prestadora, Length: 101, dtype: object"
            ]
          },
          "metadata": {},
          "execution_count": 15
        }
      ]
    },
    {
      "cell_type": "code",
      "metadata": {
        "id": "vsbsBGWxW07_"
      },
      "source": [
        "#Mudando as classificações de porte para apenas Pequeno, médio, etc\n",
        "df.loc[df['Porte da Prestadora'] == \"Pequeno Porte\", ['Porte da Prestadora']] = 'Pequeno'\n",
        "df.loc[df['Porte da Prestadora'] == \"Medio Porte\", ['Porte da Prestadora']] = 'Medio'\n",
        "df.loc[df['Porte da Prestadora'] == \"Grande Porte\", ['Porte da Prestadora']] = 'Grande'"
      ],
      "execution_count": null,
      "outputs": []
    },
    {
      "cell_type": "code",
      "metadata": {
        "id": "s-FqWQruXggC"
      },
      "source": [
        "df.loc[0:50, 'Porte da Prestadora']"
      ],
      "execution_count": null,
      "outputs": []
    },
    {
      "cell_type": "code",
      "metadata": {
        "id": "hq0sYwcoXyCl"
      },
      "source": [
        "#Localização com referência\n",
        "df.loc[df['Meio de Acesso'] == \"Indeterminado\"]"
      ],
      "execution_count": null,
      "outputs": []
    },
    {
      "cell_type": "code",
      "metadata": {
        "id": "lhOspQ0rY3G-"
      },
      "source": [
        "df.loc[df['Meio de Acesso'] == \"Indeterminado\", ['Meio de Acesso']] = 'Ar'"
      ],
      "execution_count": null,
      "outputs": []
    },
    {
      "cell_type": "code",
      "metadata": {
        "id": "aNxTSUdZZBAM",
        "colab": {
          "base_uri": "https://localhost:8080/",
          "height": 538
        },
        "outputId": "bb0f0798-1edc-43df-cd62-c25340d29426"
      },
      "source": [
        "#Localização com referência\n",
        "df.loc[df['Meio de Acesso'] == \"Ar\"]"
      ],
      "execution_count": null,
      "outputs": [
        {
          "output_type": "execute_result",
          "data": {
            "text/html": [
              "<div>\n",
              "<style scoped>\n",
              "    .dataframe tbody tr th:only-of-type {\n",
              "        vertical-align: middle;\n",
              "    }\n",
              "\n",
              "    .dataframe tbody tr th {\n",
              "        vertical-align: top;\n",
              "    }\n",
              "\n",
              "    .dataframe thead th {\n",
              "        text-align: right;\n",
              "    }\n",
              "</style>\n",
              "<table border=\"1\" class=\"dataframe\">\n",
              "  <thead>\n",
              "    <tr style=\"text-align: right;\">\n",
              "      <th></th>\n",
              "      <th>Ano</th>\n",
              "      <th>Mês</th>\n",
              "      <th>Prestadora</th>\n",
              "      <th>Empresa</th>\n",
              "      <th>CNPJ</th>\n",
              "      <th>Porte da Prestadora</th>\n",
              "      <th>UF</th>\n",
              "      <th>Município</th>\n",
              "      <th>Código IBGE Município</th>\n",
              "      <th>Faixa de Velocidade</th>\n",
              "      <th>Tecnologia</th>\n",
              "      <th>Meio de Acesso</th>\n",
              "      <th>Tipo de Pessoa</th>\n",
              "      <th>Acessos</th>\n",
              "    </tr>\n",
              "  </thead>\n",
              "  <tbody>\n",
              "    <tr>\n",
              "      <th>1287862</th>\n",
              "      <td>2021</td>\n",
              "      <td>5</td>\n",
              "      <td>CONSORCIO</td>\n",
              "      <td>PREZENTINO MARCIO SILVA DE SIQUEIRA</td>\n",
              "      <td>8056217000125</td>\n",
              "      <td>Pequeno</td>\n",
              "      <td>MG</td>\n",
              "      <td>Juiz de Fora</td>\n",
              "      <td>3136702</td>\n",
              "      <td>512kbps a 2Mbps</td>\n",
              "      <td>ETHERNET</td>\n",
              "      <td>Ar</td>\n",
              "      <td>Pessoa Física</td>\n",
              "      <td>51</td>\n",
              "    </tr>\n",
              "    <tr>\n",
              "      <th>1288190</th>\n",
              "      <td>2021</td>\n",
              "      <td>5</td>\n",
              "      <td>CONSORCIO</td>\n",
              "      <td>A ARDIZZON MULTIMIDIAS - ME</td>\n",
              "      <td>24101662000116</td>\n",
              "      <td>Pequeno</td>\n",
              "      <td>ES</td>\n",
              "      <td>Rio Bananal</td>\n",
              "      <td>3204351</td>\n",
              "      <td>&gt; 34Mbps</td>\n",
              "      <td>FTTH</td>\n",
              "      <td>Ar</td>\n",
              "      <td>Pessoa Física</td>\n",
              "      <td>92</td>\n",
              "    </tr>\n",
              "    <tr>\n",
              "      <th>1288904</th>\n",
              "      <td>2021</td>\n",
              "      <td>5</td>\n",
              "      <td>CONSORCIO</td>\n",
              "      <td>S. H. POSSETTI COSTA - ME</td>\n",
              "      <td>21455781000189</td>\n",
              "      <td>Pequeno</td>\n",
              "      <td>SP</td>\n",
              "      <td>Birigui</td>\n",
              "      <td>3506508</td>\n",
              "      <td>2Mbps a 12Mbps</td>\n",
              "      <td>ETHERNET</td>\n",
              "      <td>Ar</td>\n",
              "      <td>Pessoa Física</td>\n",
              "      <td>21</td>\n",
              "    </tr>\n",
              "    <tr>\n",
              "      <th>1290759</th>\n",
              "      <td>2021</td>\n",
              "      <td>5</td>\n",
              "      <td>CONSORCIO</td>\n",
              "      <td>WNETSISTEM COMERCIO E SERVICOS DE INFORMATICA ...</td>\n",
              "      <td>7354618000107</td>\n",
              "      <td>Pequeno</td>\n",
              "      <td>SP</td>\n",
              "      <td>Icém</td>\n",
              "      <td>3519808</td>\n",
              "      <td>2Mbps a 12Mbps</td>\n",
              "      <td>Wi-Fi</td>\n",
              "      <td>Ar</td>\n",
              "      <td>Pessoa Física</td>\n",
              "      <td>13</td>\n",
              "    </tr>\n",
              "    <tr>\n",
              "      <th>1290761</th>\n",
              "      <td>2021</td>\n",
              "      <td>5</td>\n",
              "      <td>CONSORCIO</td>\n",
              "      <td>WNETSISTEM COMERCIO E SERVICOS DE INFORMATICA ...</td>\n",
              "      <td>7354618000107</td>\n",
              "      <td>Pequeno</td>\n",
              "      <td>MG</td>\n",
              "      <td>Fronteira</td>\n",
              "      <td>3127008</td>\n",
              "      <td>&gt; 34Mbps</td>\n",
              "      <td>FTTH</td>\n",
              "      <td>Ar</td>\n",
              "      <td>Pessoa Física</td>\n",
              "      <td>65</td>\n",
              "    </tr>\n",
              "    <tr>\n",
              "      <th>...</th>\n",
              "      <td>...</td>\n",
              "      <td>...</td>\n",
              "      <td>...</td>\n",
              "      <td>...</td>\n",
              "      <td>...</td>\n",
              "      <td>...</td>\n",
              "      <td>...</td>\n",
              "      <td>...</td>\n",
              "      <td>...</td>\n",
              "      <td>...</td>\n",
              "      <td>...</td>\n",
              "      <td>...</td>\n",
              "      <td>...</td>\n",
              "      <td>...</td>\n",
              "    </tr>\n",
              "    <tr>\n",
              "      <th>3210058</th>\n",
              "      <td>2021</td>\n",
              "      <td>1</td>\n",
              "      <td>CONSORCIO</td>\n",
              "      <td>C. S. - NET INFORMATICA E TECNOLOGIA LTDA</td>\n",
              "      <td>10482451000166</td>\n",
              "      <td>Pequeno</td>\n",
              "      <td>SC</td>\n",
              "      <td>Salto Veloso</td>\n",
              "      <td>4215406</td>\n",
              "      <td>2Mbps a 12Mbps</td>\n",
              "      <td>WIMAX</td>\n",
              "      <td>Ar</td>\n",
              "      <td>Pessoa Jurídica</td>\n",
              "      <td>2</td>\n",
              "    </tr>\n",
              "    <tr>\n",
              "      <th>3210059</th>\n",
              "      <td>2021</td>\n",
              "      <td>1</td>\n",
              "      <td>CONSORCIO</td>\n",
              "      <td>C. S. - NET INFORMATICA E TECNOLOGIA LTDA</td>\n",
              "      <td>10482451000166</td>\n",
              "      <td>Pequeno</td>\n",
              "      <td>SC</td>\n",
              "      <td>Arroio Trinta</td>\n",
              "      <td>4201604</td>\n",
              "      <td>512kbps a 2Mbps</td>\n",
              "      <td>WIMAX</td>\n",
              "      <td>Ar</td>\n",
              "      <td>Pessoa Jurídica</td>\n",
              "      <td>10</td>\n",
              "    </tr>\n",
              "    <tr>\n",
              "      <th>3210060</th>\n",
              "      <td>2021</td>\n",
              "      <td>1</td>\n",
              "      <td>CONSORCIO</td>\n",
              "      <td>C. S. - NET INFORMATICA E TECNOLOGIA LTDA</td>\n",
              "      <td>10482451000166</td>\n",
              "      <td>Pequeno</td>\n",
              "      <td>SC</td>\n",
              "      <td>Treze Tílias</td>\n",
              "      <td>4218509</td>\n",
              "      <td>512kbps a 2Mbps</td>\n",
              "      <td>WIMAX</td>\n",
              "      <td>Ar</td>\n",
              "      <td>Pessoa Física</td>\n",
              "      <td>19</td>\n",
              "    </tr>\n",
              "    <tr>\n",
              "      <th>3210061</th>\n",
              "      <td>2021</td>\n",
              "      <td>1</td>\n",
              "      <td>CONSORCIO</td>\n",
              "      <td>C. S. - NET INFORMATICA E TECNOLOGIA LTDA</td>\n",
              "      <td>10482451000166</td>\n",
              "      <td>Pequeno</td>\n",
              "      <td>SC</td>\n",
              "      <td>Salto Veloso</td>\n",
              "      <td>4215406</td>\n",
              "      <td>2Mbps a 12Mbps</td>\n",
              "      <td>WIMAX</td>\n",
              "      <td>Ar</td>\n",
              "      <td>Pessoa Física</td>\n",
              "      <td>23</td>\n",
              "    </tr>\n",
              "    <tr>\n",
              "      <th>3210063</th>\n",
              "      <td>2021</td>\n",
              "      <td>1</td>\n",
              "      <td>CONSORCIO</td>\n",
              "      <td>C. S. - NET INFORMATICA E TECNOLOGIA LTDA</td>\n",
              "      <td>10482451000166</td>\n",
              "      <td>Pequeno</td>\n",
              "      <td>SC</td>\n",
              "      <td>Arroio Trinta</td>\n",
              "      <td>4201604</td>\n",
              "      <td>2Mbps a 12Mbps</td>\n",
              "      <td>WIMAX</td>\n",
              "      <td>Ar</td>\n",
              "      <td>Pessoa Física</td>\n",
              "      <td>17</td>\n",
              "    </tr>\n",
              "  </tbody>\n",
              "</table>\n",
              "<p>64796 rows × 14 columns</p>\n",
              "</div>"
            ],
            "text/plain": [
              "          Ano  Mês Prestadora  ... Meio de Acesso   Tipo de Pessoa Acessos\n",
              "1287862  2021    5  CONSORCIO  ...             Ar    Pessoa Física      51\n",
              "1288190  2021    5  CONSORCIO  ...             Ar    Pessoa Física      92\n",
              "1288904  2021    5  CONSORCIO  ...             Ar    Pessoa Física      21\n",
              "1290759  2021    5  CONSORCIO  ...             Ar    Pessoa Física      13\n",
              "1290761  2021    5  CONSORCIO  ...             Ar    Pessoa Física      65\n",
              "...       ...  ...        ...  ...            ...              ...     ...\n",
              "3210058  2021    1  CONSORCIO  ...             Ar  Pessoa Jurídica       2\n",
              "3210059  2021    1  CONSORCIO  ...             Ar  Pessoa Jurídica      10\n",
              "3210060  2021    1  CONSORCIO  ...             Ar    Pessoa Física      19\n",
              "3210061  2021    1  CONSORCIO  ...             Ar    Pessoa Física      23\n",
              "3210063  2021    1  CONSORCIO  ...             Ar    Pessoa Física      17\n",
              "\n",
              "[64796 rows x 14 columns]"
            ]
          },
          "metadata": {},
          "execution_count": 31
        }
      ]
    },
    {
      "cell_type": "code",
      "metadata": {
        "id": "eaNGndERZCvS"
      },
      "source": [
        ""
      ],
      "execution_count": null,
      "outputs": []
    }
  ]
}